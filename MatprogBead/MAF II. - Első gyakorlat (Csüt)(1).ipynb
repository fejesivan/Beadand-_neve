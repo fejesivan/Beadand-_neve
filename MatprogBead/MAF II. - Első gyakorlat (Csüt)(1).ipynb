{
 "cells": [
  {
   "cell_type": "markdown",
   "id": "c3e247af",
   "metadata": {},
   "source": [
    "# Matematikai algoritmusok és felfedezések II. - Első gyakorlat (Ismétlés)"
   ]
  },
  {
   "cell_type": "markdown",
   "metadata": {},
   "source": []
  },
  {
   "cell_type": "markdown",
   "id": "071c0787",
   "metadata": {},
   "source": [
    "## Adminisztratív információ\n",
    "* Gyakorlatvezető: Fejes Iván\n",
    "* Elérhetőség: fejesivan@sztaki.hu\n",
    "* Óra időtartama: Csütortök 16:00 - 17:30 , Csütörtök 18:00 - 19:30 (Férőhelytől függően lehet jönni bármelyikre)\n",
    "* Óra helyszíne: LD 00-623\n",
    "* Számonkérés módja: nagy beadandó (3-4 fős csoportokban)\n",
    "* Mindenki hozzon saját számítógépet, akinek nem áll módjában, az csatlakozzon egy társához"
   ]
  },
  {
   "cell_type": "markdown",
   "id": "3345e897",
   "metadata": {},
   "source": [
    "## A félév menete\n",
    "\n",
    "* A python különböző alkalmazásait fogjuk megnézni\n",
    "* Kilépünk a Jupyter notebookok világából (python REPL, scriptek)\n",
    "* Néhány szoftverfejlesztési eszköz (IDE, verziókezelés)\n",
    "* Algoritmikus témák:\n",
    "  - Statisztika,\n",
    "  - AI/ML/Adatbányászat,\n",
    "  - Operációkutatás (solverek használata),\n",
    "  - Numerikus Analízis\n",
    "  - stb.\n",
    "* Ismétlés és intro (Első gyakorlat)\n",
    "* Szimbolikus programozás (Második gyakorlat)"
   ]
  },
  {
   "cell_type": "markdown",
   "id": "e07c2de5",
   "metadata": {},
   "source": [
    "# Ismétlés"
   ]
  },
  {
   "cell_type": "markdown",
   "id": "24536ffb",
   "metadata": {},
   "source": [
    "## Jupyter notebook\n",
    " annyira nem fontos, de lehetséges jupyter környezetben ilyen is\n",
    "* Cella mágiák: https://ipython.readthedocs.io/en/stable/interactive/magics.html"
   ]
  },
  {
   "cell_type": "code",
   "execution_count": null,
   "id": "8fb50866",
   "metadata": {
    "ExecuteTime": {
     "end_time": "2021-09-07T07:07:55.436359Z",
     "start_time": "2021-09-07T07:07:55.422394Z"
    }
   },
   "outputs": [],
   "source": []
  },
  {
   "cell_type": "markdown",
   "id": "490a5947",
   "metadata": {},
   "source": [
    "## Változók, egyszerű aritmetika, `print()`, `range()`, ciklusok, elágazások"
   ]
  },
  {
   "cell_type": "code",
   "execution_count": 1,
   "id": "6ad6b7c0",
   "metadata": {
    "ExecuteTime": {
     "end_time": "2021-09-07T07:26:59.020677Z",
     "start_time": "2021-09-07T07:26:59.005285Z"
    }
   },
   "outputs": [
    {
     "name": "stdout",
     "output_type": "stream",
     "text": [
      "3 2 1 -2 0.3333333333333333 16\n",
      "kiskutya\n"
     ]
    }
   ],
   "source": [
    "#értékadás\n",
    "a = 1\n",
    "b = 2\n",
    "c, d = 3, 4\n",
    "print(a+b, b%c, d//c, a-c, a/c, b**d)\n",
    "print(\"kiskutya\")"
   ]
  },
  {
   "cell_type": "code",
   "execution_count": null,
   "metadata": {},
   "outputs": [
    {
     "name": "stdout",
     "output_type": "stream",
     "text": [
      "cica\n",
      "c\n",
      "ca\n",
      "Cica\n"
     ]
    },
    {
     "ename": "TypeError",
     "evalue": "'str' object does not support item assignment",
     "output_type": "error",
     "traceback": [
      "\u001b[1;31m---------------------------------------------------------------------------\u001b[0m",
      "\u001b[1;31mTypeError\u001b[0m                                 Traceback (most recent call last)",
      "Cell \u001b[1;32mIn[5], line 7\u001b[0m\n\u001b[0;32m      5\u001b[0m \u001b[38;5;28mprint\u001b[39m(\u001b[38;5;124m\"\u001b[39m\u001b[38;5;124mcica\u001b[39m\u001b[38;5;124m\"\u001b[39m\u001b[38;5;241m.\u001b[39mcapitalize())\n\u001b[0;32m      6\u001b[0m \u001b[38;5;66;03m#stringek immutable objektek tehát ez nem működik:\u001b[39;00m\n\u001b[1;32m----> 7\u001b[0m \u001b[38;5;124m\"\u001b[39m\u001b[38;5;124mcica\u001b[39m\u001b[38;5;124m\"\u001b[39m[\u001b[38;5;241m2\u001b[39m]\u001b[38;5;241m=\u001b[39m\u001b[38;5;124m\"\u001b[39m\u001b[38;5;124mk\u001b[39m\u001b[38;5;124m\"\u001b[39m\n",
      "\u001b[1;31mTypeError\u001b[0m: 'str' object does not support item assignment"
     ]
    }
   ],
   "source": [
    "#stringek\n",
    "print(\"cica\")\n",
    "print(\"cica\"[2])\n",
    "print(\"cica\".removeprefix(\"ci\"))\n",
    "print(\"cica\".capitalize())\n",
    "#stringek immutable objektek tehát ez nem működik:\n",
    "print(\"cica\"[2]=\"k\")"
   ]
  },
  {
   "cell_type": "code",
   "execution_count": null,
   "id": "629c5802",
   "metadata": {
    "ExecuteTime": {
     "end_time": "2021-09-07T07:28:08.191941Z",
     "start_time": "2021-09-07T07:28:08.145078Z"
    }
   },
   "outputs": [],
   "source": [
    "#ciklusok: for, foreach, while, break, continue\n",
    "\n",
    "#for ciklus: i a \n",
    "for i in range(10):\n",
    "    if i%2 == 1:\n",
    "        print(f\"2^{i} == {2**i}\")\n",
    "\n",
    "# bármilyen iterable objecten végig lehet iterálni vele\n",
    "lista=[\"cica\",\"macska\",\"xyz\"]\n",
    "for item in  lista:\n",
    "    print(item)\n",
    "\n",
    "# van while ciklus is, do while nincs :((\n",
    "# break kulcsszó kilép a ciklusból, continue esetén pedig folytatja a következő iterációval anélkül hogy a kód hátralévő részét végrehajtaná a ciklusmagban\n",
    "cnt = 0\n",
    "while True:\n",
    "    cnt += 1\n",
    "    print(cnt)\n",
    "    if cnt >= 10:\n",
    "        break\n",
    "    else:\n",
    "        continue"
   ]
  },
  {
   "cell_type": "code",
   "execution_count": null,
   "id": "7b5c58c6",
   "metadata": {
    "ExecuteTime": {
     "end_time": "2021-09-07T07:30:05.173974Z",
     "start_time": "2021-09-07T07:30:05.159003Z"
    }
   },
   "outputs": [
    {
     "name": "stdout",
     "output_type": "stream",
     "text": [
      "nem hamis\n",
      "default\n"
     ]
    }
   ],
   "source": [
    "#if, switch case (match)\n",
    "\n",
    "#elágazásokat if-ekkel lehet létrehozni:\n",
    "condition=\"true\"\n",
    "if (condition==True):print(\"True\")\n",
    "elif(condition!=False):print(\"nem hamis\")\n",
    "else: print(\"else ág\")\n",
    "\n",
    "#match-el is lehet (szebb nyelvekben switch-nek hívják)\n",
    "\n",
    "match condition:\n",
    "    case 1: print(\"egy\") \n",
    "    case 2: print(\"kettő\")\n",
    "    case _: print(\"default\") # _ karakter mindenre ráilleszthető tehát ez mindig le fog futni ha az előző ágak nem teljesülnek\n",
    "\n"
   ]
  },
  {
   "cell_type": "markdown",
   "id": "531df035",
   "metadata": {},
   "source": [
    "## Egyszerű adatszerkezetek (lista, `dict`, halmaz, tuple, stb.), comprehensions"
   ]
  },
  {
   "cell_type": "code",
   "execution_count": 12,
   "id": "f1236442",
   "metadata": {
    "ExecuteTime": {
     "end_time": "2021-09-07T07:37:48.294537Z",
     "start_time": "2021-09-07T07:37:48.263479Z"
    }
   },
   "outputs": [],
   "source": [
    "# list\n",
    "# list\n",
    "l = [1,2,3,4]\n",
    "\n",
    "# tuple\n",
    "t = (1,2,3)\n",
    "m = (1,)\n",
    "\n",
    "# not tuple\n",
    "not_tuple = (1)\n",
    "\n",
    "# dict\n",
    "d = {\"a\": 1,\n",
    "     \"b\": 2}\n",
    "#set\n",
    "s = {1,2,3,3,3}"
   ]
  },
  {
   "cell_type": "code",
   "execution_count": 13,
   "id": "de3118dc",
   "metadata": {},
   "outputs": [
    {
     "data": {
      "text/plain": [
       "list"
      ]
     },
     "execution_count": 13,
     "metadata": {},
     "output_type": "execute_result"
    }
   ],
   "source": [
    "type(l)\n"
   ]
  },
  {
   "cell_type": "code",
   "execution_count": 14,
   "id": "fa106782",
   "metadata": {},
   "outputs": [
    {
     "name": "stdout",
     "output_type": "stream",
     "text": [
      "4\n",
      "[1, 2, 3]\n"
     ]
    }
   ],
   "source": [
    "#list functions\n",
    "print(l.pop())\n",
    "print(l)"
   ]
  },
  {
   "cell_type": "code",
   "execution_count": 15,
   "id": "88e1fe95",
   "metadata": {
    "ExecuteTime": {
     "end_time": "2021-09-07T07:40:18.980635Z",
     "start_time": "2021-09-07T07:40:18.965198Z"
    }
   },
   "outputs": [
    {
     "name": "stdout",
     "output_type": "stream",
     "text": [
      "[3, 2, 1]\n",
      "[1, 2, 3, 5]\n"
     ]
    }
   ],
   "source": [
    "l.reverse()\n",
    "print(l)\n",
    "l.append(5)\n",
    "l.sort()\n",
    "print(l)"
   ]
  },
  {
   "cell_type": "code",
   "execution_count": 17,
   "id": "567cf843",
   "metadata": {
    "ExecuteTime": {
     "end_time": "2021-09-07T07:40:47.894978Z",
     "start_time": "2021-09-07T07:40:47.841820Z"
    }
   },
   "outputs": [
    {
     "name": "stdout",
     "output_type": "stream",
     "text": [
      "[1, 2, 4, 8, 16, 32, 64, 128, 256, 512]\n"
     ]
    }
   ],
   "source": [
    "# list comprehension\n",
    "l = [2**i for i in range(10)]\n",
    "print(l)\n",
    "# listákat lehet generálni ilyen kifejezésekkel"
   ]
  },
  {
   "cell_type": "code",
   "execution_count": 18,
   "id": "7a1d5414",
   "metadata": {
    "ExecuteTime": {
     "end_time": "2021-09-07T07:44:02.908441Z",
     "start_time": "2021-09-07T07:44:02.892824Z"
    }
   },
   "outputs": [
    {
     "data": {
      "text/plain": [
       "{1: 2, 3: 8, 5: 32, 7: 128, 9: 512}"
      ]
     },
     "execution_count": 18,
     "metadata": {},
     "output_type": "execute_result"
    }
   ],
   "source": [
    "# dict comprehension\n",
    "d = {i: 2**i for i in range(1, 11, 2)}\n",
    "d\n",
    "# dicteket lehet generálni ilyen kifejezésekkel"
   ]
  },
  {
   "cell_type": "markdown",
   "id": "aac25523",
   "metadata": {},
   "source": [
    "## Függvények (docstring, `*args`, `**kwargs`, default argumentumok)"
   ]
  },
  {
   "cell_type": "code",
   "execution_count": null,
   "metadata": {},
   "outputs": [],
   "source": [
    "#függvény def\n",
    "def f(x, y, z=3):\n",
    "    return x + 2*y + z\n"
   ]
  },
  {
   "cell_type": "code",
   "execution_count": 20,
   "metadata": {},
   "outputs": [],
   "source": [
    "#def param\n",
    "def g(l):\n",
    "    print(l)"
   ]
  },
  {
   "cell_type": "code",
   "execution_count": 22,
   "metadata": {},
   "outputs": [],
   "source": [
    "#args, kwargs"
   ]
  },
  {
   "cell_type": "code",
   "execution_count": null,
   "id": "c31628db",
   "metadata": {
    "ExecuteTime": {
     "end_time": "2021-09-07T08:30:32.069668Z",
     "start_time": "2021-09-07T08:30:32.054039Z"
    }
   },
   "outputs": [
    {
     "name": "stdout",
     "output_type": "stream",
     "text": [
      "0 : 1\n",
      "1 : 2\n",
      "2 : 3\n",
      "3 : 4\n",
      "<class 'dict'>\n",
      "('a', 'A')\n",
      "('b', 'B')\n",
      "('c', 'C')\n"
     ]
    }
   ],
   "source": [
    "#args: listányi paraméter\n",
    "#kwargs: dict-like paraméterek\n",
    "def foo(*args, **kwargs):\n",
    "    \"\"\"\n",
    "        This is the help of this example function (this is a docstring)\n",
    "    \"\"\"\n",
    "    for i, arg in enumerate(args):\n",
    "        print(i, \":\", arg)\n",
    "    print(type(kwargs))\n",
    "    for i in kwargs.items():\n",
    "        print(i)\n",
    "    \"\"\"\n",
    "    if you put it here it wont work\n",
    "    \"\"\"\n",
    "foo(1,2,3,4, a=\"A\", b=\"B\", c=\"C\")"
   ]
  },
  {
   "cell_type": "code",
   "execution_count": null,
   "id": "dd8b4975",
   "metadata": {
    "ExecuteTime": {
     "end_time": "2021-09-07T08:10:11.726083Z",
     "start_time": "2021-09-07T08:10:11.615533Z"
    }
   },
   "outputs": [
    {
     "name": "stdout",
     "output_type": "stream",
     "text": [
      "Help on function foo in module __main__:\n",
      "\n",
      "foo(*args, **kwargs)\n",
      "    This is the help of this example function (this is a docstring)\n",
      "\n"
     ]
    }
   ],
   "source": [
    "# help függvényel az osztályokról lehet infókat kapni a docstringek alapján\n",
    "help(foo)"
   ]
  },
  {
   "cell_type": "code",
   "execution_count": null,
   "id": "b03a4a73",
   "metadata": {
    "ExecuteTime": {
     "end_time": "2021-09-07T08:32:05.238700Z",
     "start_time": "2021-09-07T08:32:05.223077Z"
    }
   },
   "outputs": [
    {
     "name": "stdout",
     "output_type": "stream",
     "text": [
      "0 : 0\n",
      "1 : 1\n",
      "2 : 1\n",
      "3 : 2\n",
      "4 : 3\n",
      "5 : 5\n",
      "6 : 8\n",
      "7 : 13\n",
      "8 : 21\n",
      "9 : 34\n",
      "10 : 55\n",
      "11 : 89\n",
      "12 : 144\n",
      "13 : 233\n",
      "14 : 377\n",
      "15 : 610\n",
      "16 : 987\n",
      "17 : 1597\n",
      "18 : 2584\n",
      "19 : 4181\n"
     ]
    }
   ],
   "source": [
    "#fibonacci sorozat számoló függvény\n",
    "def fib(n):\n",
    "    a=0\n",
    "    b=1\n",
    "    for i in range(n):\n",
    "        tmp=a\n",
    "        a+=b\n",
    "        b=tmp\n",
    "    return a\n",
    "\n",
    "for i in range(20):\n",
    "    print(\"{0} : {1}\".format(i,fib(i))) # string formatálás\n"
   ]
  },
  {
   "cell_type": "markdown",
   "id": "c24555d8",
   "metadata": {},
   "source": [
    "## Osztályok"
   ]
  },
  {
   "cell_type": "code",
   "execution_count": null,
   "id": "243ca8f7",
   "metadata": {
    "ExecuteTime": {
     "end_time": "2021-09-07T08:49:01.312098Z",
     "start_time": "2021-09-07T08:49:01.274487Z"
    }
   },
   "outputs": [],
   "source": [
    "#Vector3d class, 3 parameter, tostring __str__, set_cords, add\n",
    "class Vector3D:\n",
    "    \"\"\"\n",
    "        Docstring for MyClass\n",
    "    \"\"\"\n",
    "    def __init__(self, x, y, z = 0): # konstruktor, az osztály létrehozásakor ez a függvény fut le rögtön, feladata az osztály adattagjainak inicializálása\n",
    "        \"\"\"\n",
    "            Initialize vector with z=0 as default\n",
    "        \"\"\"\n",
    "        self.x = x # self egy pointer a saját objektumra\n",
    "        self.y = y # self.változónév-vel lehet objektum adattagokat létrehozni és értéket adni nekik\n",
    "        self.z = z\n",
    "    \n",
    "    def __str__(self): #to string metódus, ha print()-eljük (vagy stringként hivatkozunk) az adott objektumra akkor ez a függvény hívódik meg\n",
    "        return f\"({self.x}, {self.y}, {self.z})\"\n",
    "    \n",
    "    def set_coords(self, x=None, y=None, z=None): # osztály függvények (self egyébként kötelező mindbe paraméterként, de az osztályon kívül elhagyandó)\n",
    "        \"\"\"\n",
    "            Set coordinates of vector\n",
    "        \"\"\"\n",
    "        if type(x) is int:\n",
    "                self.x = x\n",
    "        if type(y) is int:\n",
    "            self.y = y\n",
    "        if type(z) is int:\n",
    "            self.z = z\n",
    "\n",
    "    def add(self, other):\n",
    "        \"\"\"\n",
    "            Addition operation override\n",
    "        \"\"\"\n",
    "        x = self.x + other.x\n",
    "        y = self.y + other.y\n",
    "        z = self.z + other.z\n",
    "        \n",
    "        return Vector3D(x,y,z)\n"
   ]
  },
  {
   "cell_type": "code",
   "execution_count": 30,
   "id": "2d622977",
   "metadata": {
    "ExecuteTime": {
     "end_time": "2021-09-07T08:49:04.664207Z",
     "start_time": "2021-09-07T08:49:04.633164Z"
    }
   },
   "outputs": [
    {
     "name": "stdout",
     "output_type": "stream",
     "text": [
      "(1, 2, 3)\n"
     ]
    }
   ],
   "source": [
    "asd=Vector3D(1,2,3)\n",
    "print(asd)"
   ]
  },
  {
   "cell_type": "code",
   "execution_count": 145,
   "id": "1dc81ae6",
   "metadata": {
    "ExecuteTime": {
     "end_time": "2021-09-07T08:49:15.392847Z",
     "start_time": "2021-09-07T08:49:15.377185Z"
    }
   },
   "outputs": [
    {
     "name": "stdout",
     "output_type": "stream",
     "text": [
      "Help on class Vector3D in module __main__:\n",
      "\n",
      "class Vector3D(builtins.object)\n",
      " |  Vector3D(x, y, z=0)\n",
      " |\n",
      " |  Docstring for MyClass\n",
      " |\n",
      " |  Methods defined here:\n",
      " |\n",
      " |  __init__(self, x, y, z=0)\n",
      " |      Initialize vector with z=0 as default\n",
      " |\n",
      " |  __str__(self)\n",
      " |      Return str(self).\n",
      " |\n",
      " |  add(self, other)\n",
      " |      Addition operation override\n",
      " |\n",
      " |  set_coords(self, x=None, y=None, z=None)\n",
      " |      Set coordinates of vector\n",
      " |\n",
      " |  ----------------------------------------------------------------------\n",
      " |  Data descriptors defined here:\n",
      " |\n",
      " |  __dict__\n",
      " |      dictionary for instance variables\n",
      " |\n",
      " |  __weakref__\n",
      " |      list of weak references to the object\n",
      "\n"
     ]
    }
   ],
   "source": [
    "help(Vector3D)"
   ]
  },
  {
   "cell_type": "markdown",
   "id": "b2b889cc",
   "metadata": {},
   "source": [
    "## Fájlkezelés"
   ]
  },
  {
   "cell_type": "code",
   "execution_count": null,
   "id": "0a4abc68",
   "metadata": {
    "ExecuteTime": {
     "end_time": "2021-09-07T10:38:41.570792Z",
     "start_time": "2021-09-07T10:38:41.558770Z"
    }
   },
   "outputs": [],
   "source": [
    "with open(\"text.txt\") as f: #with open -> a with scopeja után be is zárja a fájlt\n",
    "    content = f.read() # be readeli a file tartalmát\n",
    "content.split(\"\\n\") # feldaraboljuk \\n új sor karakterek alapján"
   ]
  },
  {
   "cell_type": "markdown",
   "id": "b511c2ca",
   "metadata": {},
   "source": [
    "## Modulok (`numpy`, `matplotlib`, `pandas`, stb.)"
   ]
  },
  {
   "cell_type": "code",
   "execution_count": 32,
   "metadata": {},
   "outputs": [],
   "source": [
    "#könyvtárakat importal importáljuk, könyvtárak specifikus részeit form könyvtárnév import specifikus rész  \n",
    "import math\n",
    "from math import sqrt"
   ]
  },
  {
   "cell_type": "code",
   "execution_count": 33,
   "metadata": {},
   "outputs": [
    {
     "data": {
      "text/plain": [
       "1.4142135623730951"
      ]
     },
     "execution_count": 33,
     "metadata": {},
     "output_type": "execute_result"
    }
   ],
   "source": [
    "sqrt(2)"
   ]
  },
  {
   "cell_type": "code",
   "execution_count": null,
   "id": "e4a37f15",
   "metadata": {
    "ExecuteTime": {
     "end_time": "2021-09-07T10:39:12.593399Z",
     "start_time": "2021-09-07T10:39:11.020922Z"
    }
   },
   "outputs": [],
   "source": [
    "#külső könyvtárak\n",
    "import numpy as np\n",
    "import matplotlib.pyplot as plt\n",
    "import pandas as pd"
   ]
  },
  {
   "cell_type": "code",
   "execution_count": 35,
   "id": "23fb8130",
   "metadata": {
    "ExecuteTime": {
     "end_time": "2021-09-07T10:54:37.493624Z",
     "start_time": "2021-09-07T10:54:37.478055Z"
    }
   },
   "outputs": [
    {
     "data": {
      "text/plain": [
       "((2, 2), (5,))"
      ]
     },
     "execution_count": 35,
     "metadata": {},
     "output_type": "execute_result"
    }
   ],
   "source": [
    "v = np.array([1,2,3,4,5])\n",
    "M = np.array([[1, 1],\n",
    "              [1, 1]])\n",
    "M.shape, v.shape"
   ]
  },
  {
   "cell_type": "code",
   "execution_count": 36,
   "id": "fd4f68e6",
   "metadata": {
    "ExecuteTime": {
     "end_time": "2021-09-07T10:54:48.671581Z",
     "start_time": "2021-09-07T10:54:48.655957Z"
    }
   },
   "outputs": [],
   "source": [
    "# Standard normális eloszlás\n",
    "x = np.random.randn(100000)"
   ]
  },
  {
   "cell_type": "code",
   "execution_count": 37,
   "id": "c788a9b4",
   "metadata": {
    "ExecuteTime": {
     "end_time": "2021-09-07T11:03:23.533438Z",
     "start_time": "2021-09-07T11:03:23.502411Z"
    }
   },
   "outputs": [],
   "source": [
    "# Normális eloszlás\n",
    "σ = .5\n",
    "μ = 2\n",
    "y = σ * np.random.randn(100000) + μ"
   ]
  },
  {
   "cell_type": "code",
   "execution_count": 39,
   "id": "00520900",
   "metadata": {
    "ExecuteTime": {
     "end_time": "2021-09-07T11:03:24.636431Z",
     "start_time": "2021-09-07T11:03:24.351379Z"
    }
   },
   "outputs": [
    {
     "data": {
      "text/plain": [
       "(array([1.000e+00, 1.000e+00, 2.000e+00, 1.000e+00, 1.000e+00, 2.000e+00,\n",
       "        4.000e+00, 4.000e+00, 4.000e+00, 1.000e+00, 7.000e+00, 7.000e+00,\n",
       "        1.400e+01, 1.000e+01, 1.900e+01, 4.000e+01, 3.000e+01, 5.200e+01,\n",
       "        5.600e+01, 7.700e+01, 1.090e+02, 1.120e+02, 1.370e+02, 1.710e+02,\n",
       "        2.330e+02, 2.760e+02, 3.390e+02, 4.120e+02, 5.220e+02, 5.950e+02,\n",
       "        6.900e+02, 8.190e+02, 8.460e+02, 1.050e+03, 1.187e+03, 1.375e+03,\n",
       "        1.483e+03, 1.642e+03, 1.837e+03, 2.073e+03, 2.136e+03, 2.410e+03,\n",
       "        2.476e+03, 2.637e+03, 2.778e+03, 3.095e+03, 3.042e+03, 3.198e+03,\n",
       "        3.296e+03, 3.136e+03, 3.524e+03, 3.452e+03, 3.421e+03, 3.351e+03,\n",
       "        3.175e+03, 3.218e+03, 3.147e+03, 3.057e+03, 2.778e+03, 2.689e+03,\n",
       "        2.631e+03, 2.273e+03, 2.223e+03, 2.107e+03, 1.876e+03, 1.732e+03,\n",
       "        1.515e+03, 1.411e+03, 1.212e+03, 1.030e+03, 9.070e+02, 8.130e+02,\n",
       "        6.720e+02, 5.820e+02, 4.770e+02, 4.070e+02, 3.450e+02, 3.190e+02,\n",
       "        2.640e+02, 1.810e+02, 1.660e+02, 1.340e+02, 9.800e+01, 8.700e+01,\n",
       "        6.800e+01, 5.300e+01, 3.500e+01, 3.900e+01, 2.700e+01, 1.600e+01,\n",
       "        1.200e+01, 3.000e+00, 1.200e+01, 4.000e+00, 4.000e+00, 2.000e+00,\n",
       "        3.000e+00, 0.000e+00, 2.000e+00, 1.000e+00]),\n",
       " array([-0.19786926, -0.15524218, -0.1126151 , -0.06998801, -0.02736093,\n",
       "         0.01526616,  0.05789324,  0.10052033,  0.14314741,  0.18577449,\n",
       "         0.22840158,  0.27102866,  0.31365575,  0.35628283,  0.39890992,\n",
       "         0.441537  ,  0.48416408,  0.52679117,  0.56941825,  0.61204534,\n",
       "         0.65467242,  0.69729951,  0.73992659,  0.78255367,  0.82518076,\n",
       "         0.86780784,  0.91043493,  0.95306201,  0.99568909,  1.03831618,\n",
       "         1.08094326,  1.12357035,  1.16619743,  1.20882452,  1.2514516 ,\n",
       "         1.29407868,  1.33670577,  1.37933285,  1.42195994,  1.46458702,\n",
       "         1.50721411,  1.54984119,  1.59246827,  1.63509536,  1.67772244,\n",
       "         1.72034953,  1.76297661,  1.8056037 ,  1.84823078,  1.89085786,\n",
       "         1.93348495,  1.97611203,  2.01873912,  2.0613662 ,  2.10399329,\n",
       "         2.14662037,  2.18924745,  2.23187454,  2.27450162,  2.31712871,\n",
       "         2.35975579,  2.40238288,  2.44500996,  2.48763704,  2.53026413,\n",
       "         2.57289121,  2.6155183 ,  2.65814538,  2.70077247,  2.74339955,\n",
       "         2.78602663,  2.82865372,  2.8712808 ,  2.91390789,  2.95653497,\n",
       "         2.99916205,  3.04178914,  3.08441622,  3.12704331,  3.16967039,\n",
       "         3.21229748,  3.25492456,  3.29755164,  3.34017873,  3.38280581,\n",
       "         3.4254329 ,  3.46805998,  3.51068707,  3.55331415,  3.59594123,\n",
       "         3.63856832,  3.6811954 ,  3.72382249,  3.76644957,  3.80907666,\n",
       "         3.85170374,  3.89433082,  3.93695791,  3.97958499,  4.02221208,\n",
       "         4.06483916]),\n",
       " <BarContainer object of 100 artists>)"
      ]
     },
     "execution_count": 39,
     "metadata": {},
     "output_type": "execute_result"
    },
    {
     "data": {
      "image/png": "[encoded data removed]",
      "text/plain": [
       "<Figure size 640x480 with 1 Axes>"
      ]
     },
     "metadata": {},
     "output_type": "display_data"
    }
   ],
   "source": [
    "#plot\n",
    "plt.hist(y,bins=100)"
   ]
  },
  {
   "cell_type": "code",
   "execution_count": null,
   "id": "c77e668f",
   "metadata": {
    "ExecuteTime": {
     "end_time": "2021-09-07T11:25:50.345903Z",
     "start_time": "2021-09-07T11:25:50.325937Z"
    }
   },
   "outputs": [],
   "source": [
    "#feladat: 8x8 sakktábla list comprehesionnal egy np arrayban\n",
    "\n",
    "checkerboard = np.array([[(-1)**(i+j) for i in range(8)] for j in range(8)]) # megoldás"
   ]
  },
  {
   "cell_type": "code",
   "execution_count": null,
   "id": "ef6a554a",
   "metadata": {},
   "outputs": [],
   "source": []
  },
  {
   "cell_type": "code",
   "execution_count": 41,
   "id": "6594429e",
   "metadata": {
    "ExecuteTime": {
     "end_time": "2021-09-07T11:27:03.645269Z",
     "start_time": "2021-09-07T11:27:03.429154Z"
    }
   },
   "outputs": [
    {
     "data": {
      "text/plain": [
       "<matplotlib.image.AxesImage at 0x21986d9f5c0>"
      ]
     },
     "execution_count": 41,
     "metadata": {},
     "output_type": "execute_result"
    },
    {
     "data": {
      "image/png": "[encoded data removed]",
      "text/plain": [
       "<Figure size 640x480 with 1 Axes>"
      ]
     },
     "metadata": {},
     "output_type": "display_data"
    }
   ],
   "source": [
    "plt.imshow(checkerboard, cmap=\"binary\")"
   ]
  },
  {
   "cell_type": "markdown",
   "id": "1b1af4ff-bf3a-476d-8364-393a427d31b8",
   "metadata": {},
   "source": [
    "# Feladat:\n",
    "Valositsd meg az $n \\times n$-es matrixok osztalyat. Ne hasznalj kulso libeket (pl. numpy). Implementald az alabbi tagfuggvenyeket:\n",
    "- konstruktor (varja kotelezoen az $n$ erteket es a matriz elemeit (listak listajakent), ha nincs ertek megadva, legyen az egysegmatrix), taroljuk el a self.rows-ban es a self.cols-ban a sorokat es az oszlopokat (listak listajakent)\n",
    "- osszeadas, kivonas, matrixszorzas, hatvanyozas,\n",
    "- az elozo pontbeli fuggenyek segitsegevel definiald felul a +, -, * es ** operatorokat (segitseg: https://www.geeksforgeeks.org/operator-overloading-in-python/),\n",
    "- determinans szamolas,\n",
    "- irj docstringeket,\n",
    "- ha kesz vagy, masold ki az osztalyt definiali kodot egy kulon .py fajlba,\n",
    "- irj egy python scriptet, amiben importalod az osztalyt es teszteled a mukodest."
   ]
  },
  {
   "cell_type": "code",
   "execution_count": null,
   "id": "aad7c612",
   "metadata": {},
   "outputs": [],
   "source": [
    "class mtr:\n",
    "    \n",
    "    \"\"\"\n",
    "    this is the class of n*n matrices\n",
    "    \"\"\"\n",
    "    def __init__(self,*args):\n",
    "        \"\"\"\n",
    "        doc string of constructor\n",
    "        \"\"\"\n",
    "        if(len(args)==0):raise ValueError(\"you need to give at least one parameter\")\n",
    "        elif(args[0]>0):\n",
    "            self.n=args[0]\n",
    "            if(len(args)==1):\n",
    "                self.rows=self.ones(self.n)\n",
    "                self.cols= self.transpose(self.rows)\n",
    "            else:\n",
    "                self.rows=args[1]\n",
    "                self.cols=self.transpose(self.rows)\n",
    "\n",
    "\n",
    "    def ones(self,n):\n",
    "        ones_array=[]\n",
    "        for i in range(n):\n",
    "            row=[]\n",
    "            for e in range(n):\n",
    "               if(i==e):row.append(1)\n",
    "               else:row.append(0)\n",
    "            ones_array.append(row)\n",
    "        return ones_array \n",
    "    \n",
    "    def transpose(self,rows):\n",
    "        return list(map(list, zip(*rows)))\n",
    "    \n",
    "    def plus(self, values):\n",
    "        new_mtr_val=[]\n",
    "        for i in range(self.n):\n",
    "            row=[]\n",
    "            for e in range(self.n):\n",
    "                row.append(self.rows[i][e]+values.rows[i][e])\n",
    "            new_mtr_val.append(row)\n",
    "        return mtr(self.n,new_mtr_val)\n",
    "    \n",
    "    def minus(self,values):\n",
    "        new_mtr_val=[]\n",
    "        for i in range(self.n):\n",
    "            row=[]\n",
    "            for e in range(self.n):\n",
    "                row.append(self.rows[i][e]-values.rows[i][e])\n",
    "            new_mtr_val.append(row)\n",
    "        return mtr(self.n,new_mtr_val)\n",
    "    \n",
    "    def prod(self,values):\n",
    "        new_mtr_val=[]\n",
    "        for i in range(self.n):\n",
    "            row=[]\n",
    "            for e in range(self.n):\n",
    "                val=0\n",
    "                for j in range(self.n):\n",
    "                    val+=self.rows[i][j]*values.rows[j][e]\n",
    "                row.append(val)\n",
    "            new_mtr_val.append(row)\n",
    "        return mtr(self.n, new_mtr_val)\n",
    "    \n",
    "    def __str__(self):\n",
    "        szoveg=\"\"\n",
    "        for i in range(self.n):\n",
    "            for e in range(self.n):\n",
    "                szoveg+=\" | \"+str(self.rows[i][e])\n",
    "            szoveg+=\" |\\n\"\n",
    "        return szoveg\n",
    "    \n",
    "    def power(self,n):\n",
    "        tmp=self\n",
    "        for i in range(n-1):\n",
    "            tmp=tmp.prod(self)            \n",
    "        return tmp\n",
    "    \n",
    "    def det(self):\n",
    "        return self.calc_det(self.rows)\n",
    "\n",
    "    def calc_det(self, values):\n",
    "        if(len(values)==2): return (values[0][0]*values[1][1]) - (values[1][0]* values[0][1])\n",
    "        else:\n",
    "            d=0\n",
    "            for i in range(len(values)):\n",
    "                new_mtr= [values[e][:i]+values[e][i+1:] for e in range(1,len(values))]\n",
    "                d+= (-1)**i*values[0][i] *self.calc_det(new_mtr) \n",
    "            return d\n",
    "        \n",
    "    def __add__(self,a):\n",
    "        return self.plus(a)\n",
    "    \n",
    "    def __sub__(self,a):\n",
    "        return self.minus(a)\n",
    "\n",
    "    def __mul__(self,a):\n",
    "        return self.prod(a)\n",
    "    def __pow__(self,a):\n",
    "        return self.power(a)\n",
    "        "
   ]
  },
  {
   "cell_type": "code",
   "execution_count": 48,
   "id": "26bb4ee2",
   "metadata": {},
   "outputs": [
    {
     "name": "stdout",
     "output_type": "stream",
     "text": [
      " | 2 | 4 | 6 |\n",
      " | 8 | 10 | 12 |\n",
      " | 14 | 16 | 18 |\n",
      "\n",
      " | 0 | 0 | 0 |\n",
      " | 0 | 0 | 0 |\n",
      " | 0 | 0 | 0 |\n",
      "\n",
      " | 30 | 36 | 42 |\n",
      " | 66 | 81 | 96 |\n",
      " | 102 | 126 | 150 |\n",
      "\n",
      " | 30 | 36 | 42 |\n",
      " | 66 | 81 | 96 |\n",
      " | 102 | 126 | 150 |\n",
      "\n",
      "0\n"
     ]
    }
   ],
   "source": [
    "c=[[1,2,3],[4,5,6],[7,8,9]]\n",
    "m=mtr(3,c)\n",
    "print(m+m)\n",
    "print(m-m)\n",
    "print(m*m)\n",
    "print(m**2)\n",
    "print(m.det())"
   ]
  },
  {
   "cell_type": "code",
   "execution_count": null,
   "id": "3ab6f3a9",
   "metadata": {},
   "outputs": [],
   "source": []
  }
 ],
 "metadata": {
  "kernelspec": {
   "display_name": "jupiter",
   "language": "python",
   "name": "python3"
  },
  "language_info": {
   "codemirror_mode": {
    "name": "ipython",
    "version": 3
   },
   "file_extension": ".py",
   "mimetype": "text/x-python",
   "name": "python",
   "nbconvert_exporter": "python",
   "pygments_lexer": "ipython3",
   "version": "3.12.9"
  },
  "latex_envs": {
   "LaTeX_envs_menu_present": true,
   "autoclose": true,
   "autocomplete": true,
   "bibliofile": "biblio.bib",
   "cite_by": "apalike",
   "current_citInitial": 1,
   "eqLabelWithNumbers": true,
   "eqNumInitial": 1,
   "hotkeys": {
    "equation": "Ctrl-E",
    "itemize": "Ctrl-I"
   },
   "labels_anchors": false,
   "latex_user_defs": false,
   "report_style_numbering": true,
   "user_envs_cfg": false
  },
  "toc": {
   "base_numbering": 1,
   "nav_menu": {},
   "number_sections": true,
   "sideBar": true,
   "skip_h1_title": false,
   "title_cell": "Table of Contents",
   "title_sidebar": "Contents",
   "toc_cell": false,
   "toc_position": {},
   "toc_section_display": true,
   "toc_window_display": false
  },
  "varInspector": {
   "cols": {
    "lenName": 16,
    "lenType": 16,
    "lenVar": 40
   },
   "kernels_config": {
    "python": {
     "delete_cmd_postfix": "",
     "delete_cmd_prefix": "del ",
     "library": "var_list.py",
     "varRefreshCmd": "print(var_dic_list())"
    },
    "r": {
     "delete_cmd_postfix": ") ",
     "delete_cmd_prefix": "rm(",
     "library": "var_list.r",
     "varRefreshCmd": "cat(var_dic_list()) "
    }
   },
   "types_to_exclude": [
    "module",
    "function",
    "builtin_function_or_method",
    "instance",
    "_Feature"
   ],
   "window_display": false
  }
 },
 "nbformat": 4,
 "nbformat_minor": 5
}
