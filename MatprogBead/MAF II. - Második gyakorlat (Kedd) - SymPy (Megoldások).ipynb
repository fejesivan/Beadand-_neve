{
 "cells": [
  {
   "cell_type": "markdown",
   "id": "d05b32ae",
   "metadata": {},
   "source": [
    "# Matematikai algoritmusok és felfedezések II - Második gyakorlat"
   ]
  },
  {
   "cell_type": "markdown",
   "id": "779da35b",
   "metadata": {},
   "source": [
    "## SymPy"
   ]
  },
  {
   "cell_type": "code",
   "execution_count": 2,
   "id": "9cc37a15",
   "metadata": {
    "ExecuteTime": {
     "end_time": "2021-09-14T11:53:58.251648Z",
     "start_time": "2021-09-14T11:53:58.246663Z"
    }
   },
   "outputs": [],
   "source": [
    "import sympy as sym"
   ]
  },
  {
   "cell_type": "markdown",
   "id": "04db0628",
   "metadata": {},
   "source": [
    "### Szimbólumok"
   ]
  },
  {
   "cell_type": "markdown",
   "id": "43c8d599",
   "metadata": {},
   "source": [
    "#### Beépített szimbólumok"
   ]
  },
  {
   "cell_type": "code",
   "execution_count": 3,
   "id": "995857f9",
   "metadata": {
    "ExecuteTime": {
     "end_time": "2021-09-14T11:53:58.417212Z",
     "start_time": "2021-09-14T11:53:58.405238Z"
    }
   },
   "outputs": [
    {
     "data": {
      "text/latex": [
       "$\\displaystyle i$"
      ],
      "text/plain": [
       "I"
      ]
     },
     "execution_count": 3,
     "metadata": {},
     "output_type": "execute_result"
    }
   ],
   "source": [
    "sym.I"
   ]
  },
  {
   "cell_type": "code",
   "execution_count": 4,
   "id": "8140022f",
   "metadata": {
    "ExecuteTime": {
     "end_time": "2021-09-14T11:53:58.466075Z",
     "start_time": "2021-09-14T11:53:58.428176Z"
    }
   },
   "outputs": [
    {
     "data": {
      "text/latex": [
       "$\\displaystyle \\infty$"
      ],
      "text/plain": [
       "oo"
      ]
     },
     "execution_count": 4,
     "metadata": {},
     "output_type": "execute_result"
    }
   ],
   "source": [
    "sym.oo"
   ]
  },
  {
   "cell_type": "code",
   "execution_count": 5,
   "id": "10b209be",
   "metadata": {
    "ExecuteTime": {
     "end_time": "2021-09-14T11:53:58.484027Z",
     "start_time": "2021-09-14T11:53:58.471063Z"
    }
   },
   "outputs": [
    {
     "data": {
      "text/latex": [
       "$\\displaystyle \\pi$"
      ],
      "text/plain": [
       "pi"
      ]
     },
     "execution_count": 5,
     "metadata": {},
     "output_type": "execute_result"
    }
   ],
   "source": [
    "sym.pi"
   ]
  },
  {
   "cell_type": "code",
   "execution_count": 10,
   "id": "fd438b0f",
   "metadata": {
    "ExecuteTime": {
     "end_time": "2021-09-14T11:53:58.507982Z",
     "start_time": "2021-09-14T11:53:58.489016Z"
    }
   },
   "outputs": [
    {
     "data": {
      "text/latex": [
       "$\\displaystyle e$"
      ],
      "text/plain": [
       "E"
      ]
     },
     "execution_count": 10,
     "metadata": {},
     "output_type": "execute_result"
    }
   ],
   "source": [
    "sym.E"
   ]
  },
  {
   "cell_type": "markdown",
   "id": "6060c233",
   "metadata": {},
   "source": [
    "#### Saját szimbólumok"
   ]
  },
  {
   "cell_type": "code",
   "execution_count": 19,
   "id": "8c167abd",
   "metadata": {
    "ExecuteTime": {
     "end_time": "2021-09-14T11:53:58.578775Z",
     "start_time": "2021-09-14T11:53:58.571793Z"
    }
   },
   "outputs": [
    {
     "name": "stdout",
     "output_type": "stream",
     "text": [
      "y\n"
     ]
    },
    {
     "data": {
      "text/latex": [
       "$\\displaystyle 2 y$"
      ],
      "text/plain": [
       "2*y"
      ]
     },
     "execution_count": 19,
     "metadata": {},
     "output_type": "execute_result"
    }
   ],
   "source": [
    "x = sym.Symbol(\"y\")\n",
    "print(x)\n",
    "y= sym.Symbol(\"y\")\n",
    "x+y"
   ]
  },
  {
   "cell_type": "code",
   "execution_count": 12,
   "id": "ecde809d",
   "metadata": {
    "ExecuteTime": {
     "end_time": "2021-09-14T11:53:58.611687Z",
     "start_time": "2021-09-14T11:53:58.588748Z"
    }
   },
   "outputs": [
    {
     "ename": "NameError",
     "evalue": "name 'y' is not defined",
     "output_type": "error",
     "traceback": [
      "\u001b[1;31m---------------------------------------------------------------------------\u001b[0m",
      "\u001b[1;31mNameError\u001b[0m                                 Traceback (most recent call last)",
      "Cell \u001b[1;32mIn[12], line 1\u001b[0m\n\u001b[1;32m----> 1\u001b[0m y \u001b[38;5;241m=\u001b[39m sym\u001b[38;5;241m.\u001b[39mS(y)\n\u001b[0;32m      2\u001b[0m y\n",
      "\u001b[1;31mNameError\u001b[0m: name 'y' is not defined"
     ]
    }
   ],
   "source": [
    "y = sym.S(y)\n",
    "y"
   ]
  },
  {
   "cell_type": "code",
   "execution_count": 21,
   "id": "6b87d3da",
   "metadata": {
    "ExecuteTime": {
     "end_time": "2021-09-14T11:53:58.635623Z",
     "start_time": "2021-09-14T11:53:58.616677Z"
    }
   },
   "outputs": [
    {
     "data": {
      "text/latex": [
       "$\\displaystyle β$"
      ],
      "text/plain": [
       "β"
      ]
     },
     "execution_count": 21,
     "metadata": {},
     "output_type": "execute_result"
    }
   ],
   "source": [
    "a, b, g = sym.symbols(\"α β γ\")\n",
    "a\n",
    "b"
   ]
  },
  {
   "cell_type": "code",
   "execution_count": 22,
   "id": "b8e4d85b",
   "metadata": {
    "ExecuteTime": {
     "end_time": "2021-09-14T11:53:58.651585Z",
     "start_time": "2021-09-14T11:53:58.640614Z"
    }
   },
   "outputs": [
    {
     "data": {
      "text/plain": [
       "sympy.core.symbol.Symbol"
      ]
     },
     "execution_count": 22,
     "metadata": {},
     "output_type": "execute_result"
    }
   ],
   "source": [
    "type(x)"
   ]
  },
  {
   "cell_type": "code",
   "execution_count": null,
   "id": "9cc22299",
   "metadata": {
    "ExecuteTime": {
     "end_time": "2021-09-14T11:53:58.674519Z",
     "start_time": "2021-09-14T11:53:58.661554Z"
    }
   },
   "outputs": [
    {
     "data": {
      "text/latex": [
       "$\\displaystyle \\sin^{1.0}{\\left(α + 1 \\right)}$"
      ],
      "text/plain": [
       "sin(α + 1)**1.0"
      ]
     },
     "execution_count": 27,
     "metadata": {},
     "output_type": "execute_result"
    }
   ],
   "source": [
    "sym.sin(a+1)**3/3"
   ]
  },
  {
   "cell_type": "markdown",
   "id": "afa87887",
   "metadata": {},
   "source": [
    "#### Kifejezések"
   ]
  },
  {
   "cell_type": "code",
   "execution_count": null,
   "id": "b39a954f",
   "metadata": {
    "ExecuteTime": {
     "end_time": "2021-09-14T12:03:12.555085Z",
     "start_time": "2021-09-14T12:03:12.545121Z"
    }
   },
   "outputs": [],
   "source": [
    "x, y = sym.symbols(\"x y\")\n",
    "exp = x**2-1/y\n",
    "exp"
   ]
  },
  {
   "cell_type": "code",
   "execution_count": null,
   "id": "0668528c",
   "metadata": {
    "ExecuteTime": {
     "end_time": "2021-09-14T12:03:14.064265Z",
     "start_time": "2021-09-14T12:03:14.055286Z"
    }
   },
   "outputs": [],
   "source": [
    "exp = sym.Add(exp, 1/x)\n",
    "exp"
   ]
  },
  {
   "cell_type": "code",
   "execution_count": null,
   "id": "0419903a",
   "metadata": {
    "ExecuteTime": {
     "end_time": "2021-09-14T12:03:26.160963Z",
     "start_time": "2021-09-14T12:03:26.150986Z"
    }
   },
   "outputs": [],
   "source": [
    "exp = sym.Mul(exp, x)\n",
    "exp"
   ]
  },
  {
   "cell_type": "code",
   "execution_count": null,
   "id": "dfc5bd41",
   "metadata": {
    "ExecuteTime": {
     "end_time": "2021-09-14T12:03:32.167868Z",
     "start_time": "2021-09-14T12:03:32.157893Z"
    }
   },
   "outputs": [],
   "source": [
    "exp = sym.Pow(exp, -1/2)\n",
    "exp"
   ]
  },
  {
   "cell_type": "markdown",
   "id": "eb149c84",
   "metadata": {},
   "source": [
    "#### Behelyettesítés és kiértékelés"
   ]
  },
  {
   "cell_type": "code",
   "execution_count": null,
   "id": "afce8dc1",
   "metadata": {
    "ExecuteTime": {
     "end_time": "2021-09-14T11:53:58.776252Z",
     "start_time": "2021-09-14T11:53:58.756300Z"
    }
   },
   "outputs": [],
   "source": [
    "# Behelyettesítem a kifejezésbe a π-t\n",
    "exp = sym.sin(x)/(x**2)\n",
    "exp.subs(x, sym.pi)"
   ]
  },
  {
   "cell_type": "code",
   "execution_count": null,
   "id": "b04469b8",
   "metadata": {
    "ExecuteTime": {
     "end_time": "2021-09-14T11:53:58.808160Z",
     "start_time": "2021-09-14T11:53:58.781237Z"
    }
   },
   "outputs": [],
   "source": [
    "# Ugyanez több változóval (szimbólummal) is működik\n",
    "x, y = sym.symbols(\"x y\")\n",
    "exp = sym.sin(x)*sym.cos(y) + sym.exp(x*y)\n",
    "exp.subs([(x, sym.pi), (y, sym.pi)])"
   ]
  },
  {
   "cell_type": "code",
   "execution_count": null,
   "id": "c7b8ef0b",
   "metadata": {
    "ExecuteTime": {
     "end_time": "2021-09-14T11:53:58.836086Z",
     "start_time": "2021-09-14T11:53:58.813147Z"
    }
   },
   "outputs": [],
   "source": [
    "# Kiértékelem\n",
    "sub = exp.subs([(x, sym.pi), (y, sym.pi)])\n",
    "sub.evalf()"
   ]
  },
  {
   "cell_type": "code",
   "execution_count": null,
   "id": "3a750de3",
   "metadata": {
    "ExecuteTime": {
     "end_time": "2021-09-14T11:53:58.857030Z",
     "start_time": "2021-09-14T11:53:58.840078Z"
    }
   },
   "outputs": [],
   "source": [
    "# Kiértékelem 100 jegyig\n",
    "sub.evalf(100)"
   ]
  },
  {
   "cell_type": "code",
   "execution_count": null,
   "id": "b5c30d2f",
   "metadata": {
    "ExecuteTime": {
     "end_time": "2021-09-14T11:53:58.884958Z",
     "start_time": "2021-09-14T11:53:58.861022Z"
    }
   },
   "outputs": [],
   "source": [
    "# Egyéb kifejezéseket is ki lehet értékelni\n",
    "sym.sqrt(2).evalf()"
   ]
  },
  {
   "cell_type": "markdown",
   "id": "2e0deafe",
   "metadata": {},
   "source": [
    "### Egyszerűsítés"
   ]
  },
  {
   "cell_type": "code",
   "execution_count": null,
   "id": "68fa5227",
   "metadata": {
    "ExecuteTime": {
     "end_time": "2021-09-14T12:08:58.846489Z",
     "start_time": "2021-09-14T12:08:58.834520Z"
    }
   },
   "outputs": [],
   "source": [
    "x = sym.symbols(\"x\")\n",
    "f = (x**3-3*x**2+4)/(x**2-1)\n",
    "f"
   ]
  },
  {
   "cell_type": "code",
   "execution_count": null,
   "id": "b46a9176",
   "metadata": {
    "ExecuteTime": {
     "end_time": "2021-09-14T12:09:00.388219Z",
     "start_time": "2021-09-14T12:09:00.241605Z"
    }
   },
   "outputs": [],
   "source": [
    "# Egyszerűsítés\n",
    "sym.simplify(f)"
   ]
  },
  {
   "cell_type": "code",
   "execution_count": null,
   "id": "61fc670c",
   "metadata": {
    "ExecuteTime": {
     "end_time": "2021-09-14T12:09:55.742460Z",
     "start_time": "2021-09-14T12:09:55.732489Z"
    }
   },
   "outputs": [],
   "source": [
    "# Kibontás\n",
    "sym.expand((x-1)**3)"
   ]
  },
  {
   "cell_type": "code",
   "execution_count": null,
   "id": "fad84bb5",
   "metadata": {
    "ExecuteTime": {
     "end_time": "2021-09-14T12:10:18.359284Z",
     "start_time": "2021-09-14T12:10:18.345317Z"
    }
   },
   "outputs": [],
   "source": [
    "# Gyöktényezős alak\n",
    "sym.factor(x**3-3*x**2+3*x-1)"
   ]
  },
  {
   "cell_type": "code",
   "execution_count": null,
   "id": "d288d924",
   "metadata": {
    "ExecuteTime": {
     "end_time": "2021-09-14T12:10:53.574048Z",
     "start_time": "2021-09-14T12:10:53.559096Z"
    }
   },
   "outputs": [],
   "source": [
    "# Parciális törtekre bontás\n",
    "sym.apart(f)"
   ]
  },
  {
   "cell_type": "markdown",
   "id": "b2dfaa7f",
   "metadata": {},
   "source": [
    "### Egyenletek megoldása"
   ]
  },
  {
   "cell_type": "markdown",
   "id": "acd4903a",
   "metadata": {},
   "source": [
    "#### Hogyan oldjuk meg az alábbi egyenletet?\n",
    "\n",
    "\\[\n",
    "    3x = 5\n",
    "\\]"
   ]
  },
  {
   "cell_type": "code",
   "execution_count": null,
   "id": "1e7a4add",
   "metadata": {
    "ExecuteTime": {
     "end_time": "2021-09-14T11:53:59.139277Z",
     "start_time": "2021-09-14T11:53:59.119333Z"
    }
   },
   "outputs": [],
   "source": [
    "sol = sym.solve(3*x-5, x)\n",
    "sol"
   ]
  },
  {
   "cell_type": "markdown",
   "id": "da3b30af",
   "metadata": {},
   "source": [
    "#### Hogyan oldjuk meg a következő egyenletrendszert?\n",
    "\\[\n",
    "    3x + 2y = 5\\\\\n",
    "    2x - y = 3\n",
    "\\]"
   ]
  },
  {
   "cell_type": "code",
   "execution_count": null,
   "id": "3481e308",
   "metadata": {
    "ExecuteTime": {
     "end_time": "2021-09-14T11:53:59.300369Z",
     "start_time": "2021-09-14T11:53:59.254506Z"
    }
   },
   "outputs": [],
   "source": [
    "x, y = sym.symbols(\"x y\")\n",
    "sol = sym.solve([3*x+2*y-5, 2*x-y-3], x, y)\n",
    "sol"
   ]
  },
  {
   "cell_type": "markdown",
   "id": "5f96181e",
   "metadata": {},
   "source": [
    "#### Hogyan oldjunk meg nem-lineáris egyenletet?\n",
    "\n",
    "Mik a gyökei az alábbi polinomnak?\n",
    "\\[\n",
    "    p(x) = x^2-x-1\n",
    "\\]"
   ]
  },
  {
   "cell_type": "code",
   "execution_count": null,
   "id": "b5f0f962",
   "metadata": {
    "ExecuteTime": {
     "end_time": "2021-09-14T11:53:59.563727Z",
     "start_time": "2021-09-14T11:53:59.381151Z"
    }
   },
   "outputs": [],
   "source": [
    "sol = sym.solve(x**2-x-1, x)\n",
    "sol"
   ]
  },
  {
   "cell_type": "code",
   "execution_count": null,
   "id": "683dd840",
   "metadata": {
    "ExecuteTime": {
     "end_time": "2021-09-14T11:53:59.738265Z",
     "start_time": "2021-09-14T11:53:59.569713Z"
    }
   },
   "outputs": [],
   "source": [
    "sol = sym.solve(sym.sin(x)-1, x)\n",
    "sol"
   ]
  },
  {
   "cell_type": "markdown",
   "id": "8cd5426f",
   "metadata": {},
   "source": [
    "#### Egyenletek"
   ]
  },
  {
   "cell_type": "code",
   "execution_count": null,
   "id": "7f624dcd",
   "metadata": {
    "ExecuteTime": {
     "end_time": "2021-09-14T11:57:25.788555Z",
     "start_time": "2021-09-14T11:57:25.778577Z"
    }
   },
   "outputs": [],
   "source": [
    "eq1 = sym.Equality(x+y, 1)\n",
    "eq2 = sym.Equality(x-y, -1)\n",
    "eq1"
   ]
  },
  {
   "cell_type": "code",
   "execution_count": null,
   "id": "ec1d7eea",
   "metadata": {
    "ExecuteTime": {
     "end_time": "2021-09-14T11:57:32.352721Z",
     "start_time": "2021-09-14T11:57:32.340754Z"
    }
   },
   "outputs": [],
   "source": [
    "eq1.lhs"
   ]
  },
  {
   "cell_type": "code",
   "execution_count": null,
   "id": "651bb963",
   "metadata": {
    "ExecuteTime": {
     "end_time": "2021-09-14T11:57:46.733285Z",
     "start_time": "2021-09-14T11:57:46.723211Z"
    }
   },
   "outputs": [],
   "source": [
    "sym.solve([eq1, eq2], [x, y])"
   ]
  },
  {
   "cell_type": "markdown",
   "id": "1ad24a9e",
   "metadata": {},
   "source": [
    "### Mátrixok"
   ]
  },
  {
   "cell_type": "code",
   "execution_count": null,
   "id": "c7f18133",
   "metadata": {
    "ExecuteTime": {
     "end_time": "2021-09-14T12:34:04.316338Z",
     "start_time": "2021-09-14T12:34:04.300707Z"
    }
   },
   "outputs": [],
   "source": [
    "M = sym.Matrix([[1, 0], [0, -1]])\n",
    "M"
   ]
  },
  {
   "cell_type": "code",
   "execution_count": null,
   "id": "8117f3ed",
   "metadata": {
    "ExecuteTime": {
     "end_time": "2021-09-14T12:34:24.242713Z",
     "start_time": "2021-09-14T12:34:24.220562Z"
    }
   },
   "outputs": [],
   "source": [
    "x = sym.symbols(\"x\")\n",
    "D = sym.diag(x, x**2, x**3)\n",
    "D"
   ]
  },
  {
   "cell_type": "code",
   "execution_count": null,
   "id": "de7369cf",
   "metadata": {
    "ExecuteTime": {
     "end_time": "2021-09-14T12:34:57.249783Z",
     "start_time": "2021-09-14T12:34:57.218542Z"
    }
   },
   "outputs": [],
   "source": [
    "M.det()"
   ]
  },
  {
   "cell_type": "code",
   "execution_count": null,
   "id": "8a5c9a8d",
   "metadata": {
    "ExecuteTime": {
     "end_time": "2021-09-14T12:35:06.031195Z",
     "start_time": "2021-09-14T12:35:06.000099Z"
    }
   },
   "outputs": [],
   "source": [
    "M.trace()"
   ]
  },
  {
   "cell_type": "code",
   "execution_count": null,
   "id": "b0c68302",
   "metadata": {
    "ExecuteTime": {
     "end_time": "2021-09-14T12:35:22.267322Z",
     "start_time": "2021-09-14T12:35:22.251733Z"
    }
   },
   "outputs": [],
   "source": [
    "M.eigenvals()"
   ]
  },
  {
   "cell_type": "code",
   "execution_count": null,
   "id": "bdf045a8",
   "metadata": {
    "ExecuteTime": {
     "end_time": "2021-09-14T12:35:44.790679Z",
     "start_time": "2021-09-14T12:35:44.775254Z"
    }
   },
   "outputs": [],
   "source": [
    "M.eigenvects()"
   ]
  },
  {
   "cell_type": "markdown",
   "id": "ec7dc3b2",
   "metadata": {},
   "source": [
    "### Határértékek"
   ]
  },
  {
   "cell_type": "markdown",
   "id": "baace49e",
   "metadata": {},
   "source": [
    "#### Hogyan számoljuk ki az alábbi határértéket?\n",
    "$$\n",
    "    \\lim_{x\\to\\infty}\\left(1+\\frac{1}{x}\\right)^x\n",
    "$$"
   ]
  },
  {
   "cell_type": "code",
   "execution_count": null,
   "id": "13cb1929",
   "metadata": {
    "ExecuteTime": {
     "end_time": "2021-09-14T11:54:09.663040Z",
     "start_time": "2021-09-14T11:54:09.631119Z"
    }
   },
   "outputs": [],
   "source": [
    "sym.limit((1+1/x)**x, x, sym.oo)"
   ]
  },
  {
   "cell_type": "code",
   "execution_count": null,
   "id": "abc1e13e",
   "metadata": {
    "ExecuteTime": {
     "end_time": "2021-09-14T11:54:09.843550Z",
     "start_time": "2021-09-14T11:54:09.688967Z"
    }
   },
   "outputs": [],
   "source": [
    "sym.limit(sym.limit((1+1/x)**x * (1+1/y)**(-y), x, sym.oo), y, sym.oo)"
   ]
  },
  {
   "cell_type": "markdown",
   "id": "f05dd8e4",
   "metadata": {},
   "source": [
    "### Differenciálás"
   ]
  },
  {
   "cell_type": "markdown",
   "id": "901fad54",
   "metadata": {},
   "source": [
    "#### Hogyan kell deriválni az alábbi függvényt?\n",
    "\n",
    "$$\n",
    "    f(x) = x^3+\\frac{1}{x^2}-\\sin{x}\n",
    "$$"
   ]
  },
  {
   "cell_type": "code",
   "execution_count": null,
   "id": "28b3f3f7",
   "metadata": {
    "ExecuteTime": {
     "end_time": "2021-09-14T11:54:09.883450Z",
     "start_time": "2021-09-14T11:54:09.847543Z"
    }
   },
   "outputs": [],
   "source": [
    "sym.diff(x**3+1/x**2-sym.sin(x), x)"
   ]
  },
  {
   "cell_type": "markdown",
   "id": "fb5e440f",
   "metadata": {},
   "source": [
    "### Integrálás"
   ]
  },
  {
   "cell_type": "markdown",
   "id": "55679697",
   "metadata": {},
   "source": [
    "#### Hogyan kell kiszámolni az alábbi függvény primitívfüggvényét?\n",
    "\n",
    "$$\n",
    "    f(x) = x^3-2x^2+1\n",
    "$$"
   ]
  },
  {
   "cell_type": "code",
   "execution_count": null,
   "id": "42c3adda",
   "metadata": {
    "ExecuteTime": {
     "end_time": "2021-09-14T11:54:09.962234Z",
     "start_time": "2021-09-14T11:54:09.894433Z"
    }
   },
   "outputs": [],
   "source": [
    "sym.integrate(x**3-2*x+1)"
   ]
  },
  {
   "cell_type": "markdown",
   "id": "96f3e380",
   "metadata": {},
   "source": [
    "#### És a határozott integrálját $a$ és $b$ között?"
   ]
  },
  {
   "cell_type": "code",
   "execution_count": null,
   "id": "4b054ce5",
   "metadata": {
    "ExecuteTime": {
     "end_time": "2021-09-14T11:54:10.017088Z",
     "start_time": "2021-09-14T11:54:09.968219Z"
    },
    "scrolled": true
   },
   "outputs": [],
   "source": [
    "a, b = sym.symbols(\"a b\")\n",
    "sym.integrate(x**3-2*x+1, (x, a, b))"
   ]
  },
  {
   "cell_type": "code",
   "execution_count": null,
   "id": "0f388c0f",
   "metadata": {
    "ExecuteTime": {
     "end_time": "2021-09-14T11:54:10.056982Z",
     "start_time": "2021-09-14T11:54:10.024067Z"
    }
   },
   "outputs": [],
   "source": [
    "sym.integrate(x**3-2*x+1).subs(x, b) - sym.integrate(x**3-2*x+1).subs(x, a)"
   ]
  },
  {
   "cell_type": "code",
   "execution_count": null,
   "id": "9f6baa13",
   "metadata": {
    "ExecuteTime": {
     "end_time": "2021-09-14T11:54:11.071740Z",
     "start_time": "2021-09-14T11:54:10.068947Z"
    }
   },
   "outputs": [],
   "source": [
    "exp = (1/sym.sqrt(2*sym.pi))*sym.exp(-x**2/2)\n",
    "sym.integrate(exp, (x, -sym.oo, y)).subs(y, 0)"
   ]
  },
  {
   "cell_type": "markdown",
   "id": "87668a3d",
   "metadata": {},
   "source": [
    "### Differenciálegyenletek\n",
    "Oldjuk meg az alábbi kezdeti érték problémát!\n",
    "\n",
    "\\begin{equation}\n",
    "    \\begin{array}{rcl}\n",
    "        \\ddot{y}(t) + \\dot{y}(t)+5y(t)& = & \\sin{t} \\\\\n",
    "        \\dot{y}(0) & = & 0 \\\\\n",
    "        y(0) & = & 0\n",
    "    \\end{array}\n",
    "\\end{equation}"
   ]
  },
  {
   "cell_type": "code",
   "execution_count": null,
   "id": "79f69f59",
   "metadata": {
    "ExecuteTime": {
     "end_time": "2021-09-14T12:21:10.454245Z",
     "start_time": "2021-09-14T12:21:09.837085Z"
    }
   },
   "outputs": [],
   "source": [
    "y = sym.Function(\"y\")\n",
    "t = sym.Symbol(\"t\")\n",
    "\n",
    "yy = sym.diff(y(t), t)\n",
    "yyy = sym.diff(yy, t)\n",
    "ys = sym.dsolve(yyy+yy+5*y(t)-sym.sin(t),\n",
    "                y(t),\n",
    "                ics={y(0) : 2,\n",
    "                     yy.subs(t, 0) : 0})\n",
    "ys"
   ]
  },
  {
   "cell_type": "code",
   "execution_count": null,
   "id": "d0f3ccae",
   "metadata": {
    "ExecuteTime": {
     "end_time": "2021-09-14T12:21:11.319133Z",
     "start_time": "2021-09-14T12:21:11.303695Z"
    }
   },
   "outputs": [],
   "source": [
    "type(ys)"
   ]
  },
  {
   "cell_type": "code",
   "execution_count": null,
   "id": "6f8eba96",
   "metadata": {
    "ExecuteTime": {
     "end_time": "2021-09-14T12:21:12.189838Z",
     "start_time": "2021-09-14T12:21:12.005148Z"
    }
   },
   "outputs": [],
   "source": [
    "from sympy.plotting import plot, plot3d\n",
    "plot(ys.rhs, (t, 0, 10))"
   ]
  },
  {
   "cell_type": "markdown",
   "id": "2212bfed",
   "metadata": {},
   "source": [
    "## Feladatok"
   ]
  },
  {
   "cell_type": "markdown",
   "id": "e2649351",
   "metadata": {},
   "source": [
    "### Írd le az alábbi kifejezést `SymPy` szimbólumokkal:\n",
    "$\\frac{1}{\\sqrt{2\\pi\\sigma^2}}\\mathrm{e}^{-\\frac{(x-\\mu)^2}{2\\sigma^2}}$"
   ]
  },
  {
   "cell_type": "markdown",
   "id": "df14c61f",
   "metadata": {},
   "source": [
    "### Nem-lineáris algebrás feladat\n",
    "Adottak\n",
    "$C_i = \\left\\{(x,y)\\in\\mathbb{R}^2\\left| (x-x_i)^2+(y-y_i)^2 = r_i^2\\right.\\right\\}\\ \\forall i=1,2$\n",
    "\n",
    "körök a síkon. Számítsd ki a metszéspontjaik koordinátáit. _Bónusz:_ Ábrázold a köröket és a metszéspontokat!"
   ]
  },
  {
   "cell_type": "code",
   "execution_count": 9,
   "id": "cbe9c45b",
   "metadata": {
    "ExecuteTime": {
     "end_time": "2021-09-14T11:54:13.758699Z",
     "start_time": "2021-09-14T11:54:13.366581Z"
    }
   },
   "outputs": [],
   "source": [
    "# Data\n",
    "x1, y1, r1 = 1, 0, 5\n",
    "x2, y2, r2 = 2, 2, 4\n",
    "x, y = sym.symbols(\"x y\")\n",
    "\n",
    "# Equations\n",
    "C1 = (x-x1)**2+(y-y1)**2-r1**2\n",
    "C2 = (x-x2)**2+(y-y2)**2-r2**2\n",
    "\n",
    "# Solution\n",
    "sol = sym.solve([C1, C2, C1-C2], [x,y], dict=True)\n",
    "\n",
    "xs = [p[x] for p in sol]\n",
    "ys = [p[y] for p in sol]\n"
   ]
  },
  {
   "cell_type": "code",
   "execution_count": 10,
   "id": "e8645e7b",
   "metadata": {
    "ExecuteTime": {
     "end_time": "2021-09-14T11:54:14.159786Z",
     "start_time": "2021-09-14T11:54:13.765685Z"
    }
   },
   "outputs": [
    {
     "data": {
      "text/plain": [
       "<matplotlib.collections.PathCollection at 0x202a085a9d0>"
      ]
     },
     "execution_count": 10,
     "metadata": {},
     "output_type": "execute_result"
    },
    {
     "data": {
      "image/png": "[encoded data removed]",
      "text/plain": [
       "<Figure size 640x480 with 1 Axes>"
      ]
     },
     "metadata": {},
     "output_type": "display_data"
    }
   ],
   "source": [
    "import matplotlib.pyplot as plt\n",
    "\n",
    "circle1 = plt.Circle((x1, y1), r1, color='r', fill=False)\n",
    "circle2 = plt.Circle((x2, y2), r2, color='b', fill=False)\n",
    "\n",
    "fig, ax = plt.subplots()\n",
    "ax.add_patch(circle1)\n",
    "ax.add_patch(circle2)\n",
    "\n",
    "ax.set_xlim((-10, 10))\n",
    "ax.set_ylim((-10, 10))\n",
    "ax.scatter(xs, ys)"
   ]
  },
  {
   "cell_type": "markdown",
   "id": "192061be",
   "metadata": {},
   "source": [
    "### Mátrixos feladat\n",
    "Adj képletet $2\\times 2$-as mátrixok sajátértékeinek a kiszámítására!"
   ]
  },
  {
   "cell_type": "code",
   "execution_count": null,
   "id": "c2435702",
   "metadata": {
    "ExecuteTime": {
     "end_time": "2021-09-14T12:36:52.880710Z",
     "start_time": "2021-09-14T12:36:52.750940Z"
    }
   },
   "outputs": [],
   "source": [
    "a, b, c, d = sym.symbols(\"a b c d\")\n",
    "M = sym.Matrix([[a, b],\n",
    "                [c, d]])\n",
    "l = sym.symbols(\"λ\")\n",
    "L = sym.diag(l,l)\n",
    "l1, l2  = sym.solve(sym.det(M - L), l)\n",
    "l1.subs([(a, 2), (b, 1), (c, 0), (d, 1)]), l2.subs([(a, 2), (b, 1), (c, 0), (d, 1)])"
   ]
  },
  {
   "cell_type": "code",
   "execution_count": null,
   "id": "3756b9fc",
   "metadata": {
    "ExecuteTime": {
     "end_time": "2021-09-14T12:37:14.066160Z",
     "start_time": "2021-09-14T12:37:14.038407Z"
    }
   },
   "outputs": [],
   "source": [
    "l1, l2"
   ]
  },
  {
   "cell_type": "code",
   "execution_count": null,
   "id": "d53a04ac",
   "metadata": {
    "ExecuteTime": {
     "end_time": "2021-09-14T12:37:00.838159Z",
     "start_time": "2021-09-14T12:37:00.753595Z"
    }
   },
   "outputs": [],
   "source": [
    "M.eigenvals()"
   ]
  },
  {
   "cell_type": "markdown",
   "id": "b9a243f0",
   "metadata": {},
   "source": [
    "### Deriválós feladat\n",
    "\n",
    "Van $P$ méter drótkerítésem, és szeretnék az alpakáimnak lekeríteni az udvaromból ennek segítségével minél nagyobb, téglalap alakú területet. Hogyan mérjem ki az oldalait?"
   ]
  },
  {
   "cell_type": "code",
   "execution_count": 32,
   "id": "3b11523b",
   "metadata": {
    "ExecuteTime": {
     "end_time": "2021-09-14T11:54:14.518116Z",
     "start_time": "2021-09-14T11:54:14.509140Z"
    }
   },
   "outputs": [],
   "source": [
    "def max_area_rectangle(P):\n",
    "    # Your code here\n",
    "    x = sym.symbols(\"x\")\n",
    "    X = sym.solve(sym.diff(-x**2+x*P/2), x)[0]\n",
    "    Y = P/2 - X\n",
    "    return float(X), float(Y)"
   ]
  },
  {
   "cell_type": "code",
   "execution_count": 34,
   "id": "84c3de31",
   "metadata": {
    "ExecuteTime": {
     "end_time": "2021-09-14T11:54:14.574964Z",
     "start_time": "2021-09-14T11:54:14.522106Z"
    }
   },
   "outputs": [
    {
     "data": {
      "text/plain": [
       "(7.0, 7.0)"
      ]
     },
     "execution_count": 34,
     "metadata": {},
     "output_type": "execute_result"
    }
   ],
   "source": [
    "max_area_rectangle(28)"
   ]
  },
  {
   "cell_type": "markdown",
   "id": "3301c92c",
   "metadata": {},
   "source": [
    "Le akarok választani $A$ területet az alpakafarmomnak, azonban nincs nagyon sok pénzem, így a lehető legkevesebb kerítést szeretném felhasználni. Hogyan mérjem ki ekkor az oldalakat?"
   ]
  },
  {
   "cell_type": "code",
   "execution_count": 35,
   "id": "9953241d",
   "metadata": {
    "ExecuteTime": {
     "end_time": "2021-09-14T11:54:14.594932Z",
     "start_time": "2021-09-14T11:54:14.578953Z"
    }
   },
   "outputs": [],
   "source": [
    "def min_perimeter_rectangle(A):\n",
    "    # Your code here\n",
    "    x = sym.symbols(\"x\")\n",
    "    X = sym.Abs(sym.solve(sym.diff(2*x+2*A/x), x)[0])\n",
    "    Y = A/X\n",
    "    return float(X), float(Y)"
   ]
  },
  {
   "cell_type": "code",
   "execution_count": 36,
   "id": "26bb1c3a",
   "metadata": {
    "ExecuteTime": {
     "end_time": "2021-09-14T11:54:14.656303Z",
     "start_time": "2021-09-14T11:54:14.601447Z"
    },
    "scrolled": true
   },
   "outputs": [
    {
     "data": {
      "text/plain": [
       "(7.0, 7.0)"
      ]
     },
     "execution_count": 36,
     "metadata": {},
     "output_type": "execute_result"
    }
   ],
   "source": [
    "min_perimeter_rectangle(49)"
   ]
  },
  {
   "cell_type": "markdown",
   "id": "fac72d09",
   "metadata": {},
   "source": [
    "### Integrálós feladat\n",
    "\n",
    "Írj egy függvényt, ami kiszámolja, hogy egy standard normális eloszlású valószínűségi változó mekkora valószínűséggel kisebb, mint egy inputként kapott szám! _(Vagyis írd meg a standard normális eloszlás eloszlásfüggvényét)_\n",
    "\n",
    "A standard normális eloszlás sűrűségfüggvénye:\n",
    "\n",
    "$$\n",
    "    X\\sim \\mathcal{N}(0,1)\\implies f_X(x)=\\frac{1}{\\sqrt{2\\pi}}\\mathrm{e}^{-\\frac{x^2}{2}}\n",
    "$$"
   ]
  },
  {
   "cell_type": "code",
   "execution_count": null,
   "id": "9c6cbbb7",
   "metadata": {
    "ExecuteTime": {
     "end_time": "2021-09-14T11:54:14.669267Z",
     "start_time": "2021-09-14T11:54:14.660292Z"
    }
   },
   "outputs": [],
   "source": [
    "def standard_normal_distribution(t):\n",
    "    x = sym.S(\"x\")\n",
    "    p = sym.integrate((1/sym.sqrt(2*sym.pi))*sym.exp(-(x**2)/2), (x, -sym.oo, t))\n",
    "    return p.evalf()"
   ]
  },
  {
   "cell_type": "markdown",
   "id": "2d916cf4",
   "metadata": {},
   "source": [
    "### Lánctörtek\n",
    "* Készíts egy függvényt, amely a fenti _szép_ lánctört alakban ábrázolja a számot az $\\left[a_0,a_1,\\dots,a_n\\right]$ reprezentáció alapján.\n",
    "* Készíts egy függvényt, amely kiszámolja egy $\\frac{n}{d}$ alakú racionális szám lánctörtreprezentációját, ami $\\left[a_0,a_1,\\dots,a_n\\right]$, ahol \\[\n",
    "    \\frac{n}{d} = \\frac{1}{\\frac{1}{\\frac{1}{\\frac{1}{a_n}+\\ddots}+a_2}+a_1}+a_0,\n",
    "\\]  és minden $i=0,\\dots,n$-re $a_i\\in\\mathbb{Z}$. _Bónusz:_ Legyen képes a függvény tetszőleges valós számot is         közelíteni lánctörttel. Mi lenne $\\sqrt{2}$ egy közelítése?\n",
    "\n"
   ]
  },
  {
   "cell_type": "code",
   "execution_count": 39,
   "id": "b6f5cb68",
   "metadata": {},
   "outputs": [
    {
     "ename": "SyntaxError",
     "evalue": "invalid syntax (106474895.py, line 1)",
     "output_type": "error",
     "traceback": [
      "\u001b[1;36m  Cell \u001b[1;32mIn[39], line 1\u001b[1;36m\u001b[0m\n\u001b[1;33m    https://docs.sympy.org/latest/tutorials/intro-tutorial/simplification.html#example-continued-fractions\u001b[0m\n\u001b[1;37m          ^\u001b[0m\n\u001b[1;31mSyntaxError\u001b[0m\u001b[1;31m:\u001b[0m invalid syntax\n"
     ]
    }
   ],
   "source": [
    "https://docs.sympy.org/latest/tutorials/intro-tutorial/simplification.html#example-continued-fractions"
   ]
  },
  {
   "cell_type": "code",
   "execution_count": 24,
   "id": "68e99630",
   "metadata": {},
   "outputs": [
    {
     "name": "stdout",
     "output_type": "stream",
     "text": [
      "0.16279069767442067\n",
      "0.14285714285706508\n",
      "3.811173598933237e-12\n",
      "[4.0, 2.0, 6.0, 7.0]\n"
     ]
    }
   ],
   "source": [
    "r = 415 / 93\n",
    "int_part, rem = divmod(r, 1)\n",
    "repr = [int_part]\n",
    "cc = 0\n",
    "while rem > 0.00001:\n",
    "    cc += 1\n",
    "    int_part, rem = divmod(1 / rem, 1)\n",
    "    repr.append(int_part)\n",
    "    print(rem)\n",
    "    if cc > 10:\n",
    "        break\n",
    "print(repr)"
   ]
  },
  {
   "cell_type": "code",
   "execution_count": 25,
   "id": "c81803a6",
   "metadata": {},
   "outputs": [],
   "source": [
    "import sympy as sym"
   ]
  },
  {
   "cell_type": "code",
   "execution_count": 28,
   "id": "7d485d8c",
   "metadata": {},
   "outputs": [
    {
     "ename": "AttributeError",
     "evalue": "module 'sympy' has no attribute 'divmod'",
     "output_type": "error",
     "traceback": [
      "\u001b[1;31m---------------------------------------------------------------------------\u001b[0m",
      "\u001b[1;31mAttributeError\u001b[0m                            Traceback (most recent call last)",
      "Cell \u001b[1;32mIn[28], line 2\u001b[0m\n\u001b[0;32m      1\u001b[0m a,b \u001b[38;5;241m=\u001b[39m sym\u001b[38;5;241m.\u001b[39msymbols(\u001b[38;5;124m\"\u001b[39m\u001b[38;5;124ma b\u001b[39m\u001b[38;5;124m\"\u001b[39m)\n\u001b[1;32m----> 2\u001b[0m int_part , rem \u001b[38;5;241m=\u001b[39m sym\u001b[38;5;241m.\u001b[39mdivmod(a, b)\n\u001b[0;32m      3\u001b[0m \u001b[38;5;28mprint\u001b[39m(int_part, rem)\n",
      "\u001b[1;31mAttributeError\u001b[0m: module 'sympy' has no attribute 'divmod'"
     ]
    }
   ],
   "source": [
    "a,b = sym.symbols(\"a b\")\n",
    "int_part , rem = sym.divmod(a, b)\n",
    "print(int_part, rem)"
   ]
  },
  {
   "cell_type": "code",
   "execution_count": 12,
   "id": "f41ebce8",
   "metadata": {
    "ExecuteTime": {
     "end_time": "2021-09-14T11:54:14.687224Z",
     "start_time": "2021-09-14T11:54:14.674256Z"
    }
   },
   "outputs": [
    {
     "name": "stdout",
     "output_type": "stream",
     "text": [
      "[4.0, 2.0, 6.0, 7.0, 281545363051.0, 3.0, 1.0, 1.0, 2.0, 2.0]\n"
     ]
    }
   ],
   "source": [
    "r = 415/93\n",
    "N = [r]\n",
    "D = [1]\n",
    "A = []\n",
    "\n",
    "while D[-1] != 0:\n",
    "    d = D[-1]\n",
    "    n = N[-1]\n",
    "    a = (n/d)//1\n",
    "    A.append(a)\n",
    "    N.append(d)\n",
    "    D.append(n%d)\n",
    "\n",
    "print(A)"
   ]
  },
  {
   "cell_type": "code",
   "execution_count": 15,
   "id": "43798c1d",
   "metadata": {
    "ExecuteTime": {
     "end_time": "2021-09-14T11:54:14.709673Z",
     "start_time": "2021-09-14T11:54:14.696196Z"
    },
    "scrolled": true
   },
   "outputs": [],
   "source": [
    "import sympy as sym\n",
    "\n",
    "def to_cont_frac(r, max_it = sym.oo):\n",
    "    N = [r]\n",
    "    D = [1]\n",
    "    A = []\n",
    "\n",
    "    it = 0\n",
    "    while D[-1] != 0 and it < max_it:\n",
    "        d = D[-1]\n",
    "        n = N[-1]\n",
    "        a = (n / d) // 1\n",
    "        A.append(a)\n",
    "        N.append(d)\n",
    "        D.append(n % d)\n",
    "        it += 1\n",
    "    return A"
   ]
  },
  {
   "cell_type": "code",
   "execution_count": 38,
   "id": "938502b8",
   "metadata": {},
   "outputs": [],
   "source": [
    "def list_to_frac(l):\n",
    "    expr = sym.Integer(0)\n",
    "    for i in reversed(l[1:]):\n",
    "        expr += i\n",
    "        expr = 1/expr\n",
    "    return l[0] + expr"
   ]
  },
  {
   "cell_type": "code",
   "execution_count": 29,
   "id": "5ed6eda2",
   "metadata": {
    "ExecuteTime": {
     "end_time": "2021-09-14T11:54:14.737601Z",
     "start_time": "2021-09-14T11:54:14.716662Z"
    }
   },
   "outputs": [],
   "source": [
    "def list_to_frac(l, evaluate = False):\n",
    "    expr = sym.Integer(0)\n",
    "    last = True\n",
    "    for i in l[-1:0:-1]:\n",
    "        expr = sym.Add(i, expr, evaluate=last or evaluate)\n",
    "        expr = sym.Pow(expr, -1, evaluate=evaluate)\n",
    "        last=False\n",
    "    return sym.Add(l[0], expr, evaluate=evaluate)"
   ]
  },
  {
   "cell_type": "code",
   "execution_count": 30,
   "id": "290baed2",
   "metadata": {
    "ExecuteTime": {
     "end_time": "2021-09-14T11:54:15.750530Z",
     "start_time": "2021-09-14T11:54:14.759541Z"
    }
   },
   "outputs": [
    {
     "name": "stdout",
     "output_type": "stream",
     "text": [
      "[1, 2, 2, 2, 2, 2, 2, 2, 2, 2, 2, 2, 2, 2, 2, 2, 2, 2, 2, 2]\n"
     ]
    }
   ],
   "source": [
    "# A = to_cont_frac(sym.Rational(3363, 2378))\n",
    "A = to_cont_frac(sym.sqrt(2), max_it=20)\n",
    "print(A)"
   ]
  },
  {
   "cell_type": "code",
   "execution_count": 31,
   "id": "abb4a371",
   "metadata": {
    "ExecuteTime": {
     "end_time": "2021-09-14T11:54:15.772476Z",
     "start_time": "2021-09-14T11:54:15.756514Z"
    }
   },
   "outputs": [
    {
     "data": {
      "text/latex": [
       "$\\displaystyle 1.4142135623730964308320372569747414537112549445344$"
      ],
      "text/plain": [
       "1.4142135623730964308320372569747414537112549445344"
      ]
     },
     "execution_count": 31,
     "metadata": {},
     "output_type": "execute_result"
    }
   ],
   "source": [
    "list_to_frac(A, evaluate = False).evalf(50)"
   ]
  },
  {
   "cell_type": "code",
   "execution_count": 19,
   "id": "41ac6258",
   "metadata": {
    "ExecuteTime": {
     "end_time": "2021-09-14T11:54:15.813363Z",
     "start_time": "2021-09-14T11:54:15.782450Z"
    }
   },
   "outputs": [
    {
     "data": {
      "text/latex": [
       "$\\displaystyle 1.618034055727554179566563467492260061919504643962848297213622291021671826625386996904024767801857585$"
      ],
      "text/plain": [
       "1.618034055727554179566563467492260061919504643962848297213622291021671826625386996904024767801857585"
      ]
     },
     "execution_count": 19,
     "metadata": {},
     "output_type": "execute_result"
    }
   ],
   "source": [
    "B = [1,1,1,1,1,1,1,1,1,1,1,1,1,1,1,1,1,1]\n",
    "list_to_frac(B, evaluate = True).evalf(100)"
   ]
  },
  {
   "cell_type": "code",
   "execution_count": null,
   "id": "335eba55",
   "metadata": {
    "ExecuteTime": {
     "end_time": "2021-09-14T11:54:15.836301Z",
     "start_time": "2021-09-14T11:54:15.818351Z"
    }
   },
   "outputs": [],
   "source": [
    "4181/2584"
   ]
  },
  {
   "cell_type": "code",
   "execution_count": null,
   "id": "11188e19",
   "metadata": {
    "ExecuteTime": {
     "end_time": "2021-09-14T11:54:15.865908Z",
     "start_time": "2021-09-14T11:54:15.848958Z"
    }
   },
   "outputs": [],
   "source": [
    "((1+sym.sqrt(5))/2).evalf(100)"
   ]
  }
 ],
 "metadata": {
  "kernelspec": {
   "display_name": "jupiter",
   "language": "python",
   "name": "python3"
  },
  "language_info": {
   "codemirror_mode": {
    "name": "ipython",
    "version": 3
   },
   "file_extension": ".py",
   "mimetype": "text/x-python",
   "name": "python",
   "nbconvert_exporter": "python",
   "pygments_lexer": "ipython3",
   "version": "3.12.9"
  },
  "latex_envs": {
   "LaTeX_envs_menu_present": true,
   "autoclose": true,
   "autocomplete": true,
   "bibliofile": "biblio.bib",
   "cite_by": "apalike",
   "current_citInitial": 1,
   "eqLabelWithNumbers": true,
   "eqNumInitial": 1,
   "hotkeys": {
    "equation": "Ctrl-E",
    "itemize": "Ctrl-I"
   },
   "labels_anchors": false,
   "latex_user_defs": false,
   "report_style_numbering": true,
   "user_envs_cfg": false
  },
  "toc": {
   "base_numbering": 1,
   "nav_menu": {},
   "number_sections": true,
   "sideBar": true,
   "skip_h1_title": false,
   "title_cell": "Table of Contents",
   "title_sidebar": "Contents",
   "toc_cell": false,
   "toc_position": {},
   "toc_section_display": true,
   "toc_window_display": false
  },
  "varInspector": {
   "cols": {
    "lenName": 16,
    "lenType": 16,
    "lenVar": 40
   },
   "kernels_config": {
    "python": {
     "delete_cmd_postfix": "",
     "delete_cmd_prefix": "del ",
     "library": "var_list.py",
     "varRefreshCmd": "print(var_dic_list())"
    },
    "r": {
     "delete_cmd_postfix": ") ",
     "delete_cmd_prefix": "rm(",
     "library": "var_list.r",
     "varRefreshCmd": "cat(var_dic_list()) "
    }
   },
   "types_to_exclude": [
    "module",
    "function",
    "builtin_function_or_method",
    "instance",
    "_Feature"
   ],
   "window_display": false
  }
 },
 "nbformat": 4,
 "nbformat_minor": 5
}
